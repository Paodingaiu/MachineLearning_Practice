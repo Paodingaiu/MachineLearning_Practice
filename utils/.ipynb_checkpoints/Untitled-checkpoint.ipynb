{
 "cells": [
  {
   "cell_type": "code",
   "execution_count": 17,
   "id": "da7cc116",
   "metadata": {},
   "outputs": [
    {
     "data": {
      "text/plain": [
       "(2,)"
      ]
     },
     "execution_count": 17,
     "metadata": {},
     "output_type": "execute_result"
    }
   ],
   "source": [
    "import numpy as np\n",
    "array_a = np.array([[1,2],[4,5]])\n",
    "theta = np.array([2,3])\n",
    "array_b = np.array([[10,30],[8,10]])\n",
    "# len(array_a.dot(theta.T))\n",
    "# np.power(array_a.dot(theta.T),2)\n",
    "theta.shape"
   ]
  },
  {
   "cell_type": "code",
   "execution_count": null,
   "id": "3b779a91",
   "metadata": {},
   "outputs": [],
   "source": []
  }
 ],
 "metadata": {
  "kernelspec": {
   "display_name": "Python 3 (ipykernel)",
   "language": "python",
   "name": "python3"
  },
  "language_info": {
   "codemirror_mode": {
    "name": "ipython",
    "version": 3
   },
   "file_extension": ".py",
   "mimetype": "text/x-python",
   "name": "python",
   "nbconvert_exporter": "python",
   "pygments_lexer": "ipython3",
   "version": "3.9.8"
  }
 },
 "nbformat": 4,
 "nbformat_minor": 5
}
